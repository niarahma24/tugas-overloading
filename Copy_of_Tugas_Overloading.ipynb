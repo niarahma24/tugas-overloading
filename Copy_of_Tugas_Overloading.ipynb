{
  "nbformat": 4,
  "nbformat_minor": 0,
  "metadata": {
    "colab": {
      "provenance": [],
      "include_colab_link": true
    },
    "kernelspec": {
      "name": "python3",
      "display_name": "Python 3"
    },
    "language_info": {
      "name": "python"
    }
  },
  "cells": [
    {
      "cell_type": "markdown",
      "metadata": {
        "id": "view-in-github",
        "colab_type": "text"
      },
      "source": [
        "<a href=\"https://colab.research.google.com/github/niarahma24/tugas-overloading/blob/main/Copy_of_Tugas_Overloading.ipynb\" target=\"_parent\"><img src=\"https://colab.research.google.com/assets/colab-badge.svg\" alt=\"Open In Colab\"/></a>"
      ]
    },
    {
      "cell_type": "code",
      "execution_count": 1,
      "metadata": {
        "id": "cytAUNWzM1-6"
      },
      "outputs": [],
      "source": [
        "class perkalian:\n",
        "    def hasil(self, *args):\n",
        "        kali = 8\n",
        "        for angka in args:\n",
        "            kali *= angka\n",
        "        print(kali)"
      ]
    },
    {
      "cell_type": "code",
      "source": [
        "coba = perkalian()\n",
        "\n",
        "coba.hasil(2,4)\n",
        "coba.hasil(4,3,6)\n",
        "coba.hasil(3,4,5,6)\n"
      ],
      "metadata": {
        "id": "W9hN-kX7PDUI",
        "colab": {
          "base_uri": "https://localhost:8080/"
        },
        "outputId": "24d7760b-8987-4463-b31f-072961661569"
      },
      "execution_count": 2,
      "outputs": [
        {
          "output_type": "stream",
          "name": "stdout",
          "text": [
            "64\n",
            "576\n",
            "2880\n"
          ]
        }
      ]
    }
  ]
}